{
 "cells": [
  {
   "cell_type": "markdown",
   "metadata": {},
   "source": [
    "## IMPLEMENTING A BINARY TREE"
   ]
  },
  {
   "cell_type": "code",
   "execution_count": 1,
   "metadata": {},
   "outputs": [],
   "source": [
    "class BinaryTree():\n",
    "    def __init__(self, rootNode):\n",
    "        self.value = rootNode\n",
    "        self.rightChild = None\n",
    "        self.leftChild = None\n",
    "        \n",
    "    def addRightChild(self, rightNode):\n",
    "        n = BinaryTree(rightNode)\n",
    "        n.rightChild = self.rightChild\n",
    "        self.rightChild = n\n",
    "\n",
    "    def addLeftChild(self, leftNode):\n",
    "        n = BinaryTree(leftNode)\n",
    "        n.leftChild = self.leftChild\n",
    "        self.leftChild = n\n",
    "        \n",
    "    def getValue(self):\n",
    "        return self.value"
   ]
  },
  {
   "cell_type": "code",
   "execution_count": 20,
   "metadata": {},
   "outputs": [],
   "source": [
    "root = BinaryTree('a')"
   ]
  },
  {
   "cell_type": "code",
   "execution_count": 22,
   "metadata": {},
   "outputs": [],
   "source": [
    "root.addLeftChild('b')"
   ]
  },
  {
   "cell_type": "code",
   "execution_count": 25,
   "metadata": {},
   "outputs": [
    {
     "data": {
      "text/plain": [
       "'b'"
      ]
     },
     "execution_count": 25,
     "metadata": {},
     "output_type": "execute_result"
    }
   ],
   "source": [
    "root.leftChild.value"
   ]
  },
  {
   "cell_type": "code",
   "execution_count": 15,
   "metadata": {},
   "outputs": [],
   "source": [
    "root.rightChild.rightChild"
   ]
  },
  {
   "cell_type": "code",
   "execution_count": 16,
   "metadata": {},
   "outputs": [],
   "source": [
    "root.rightChild.addRightChild('c')"
   ]
  },
  {
   "cell_type": "code",
   "execution_count": 18,
   "metadata": {},
   "outputs": [
    {
     "data": {
      "text/plain": [
       "'c'"
      ]
     },
     "execution_count": 18,
     "metadata": {},
     "output_type": "execute_result"
    }
   ],
   "source": [
    "root.rightChild.rightChild.value"
   ]
  },
  {
   "cell_type": "markdown",
   "metadata": {},
   "source": [
    "## TREE TRAVERSAL\n",
    "- Breadth First Traversal\n",
    "    - Level order traversal\n",
    "- Depth First Traversal\n",
    "    - Preorder\n",
    "    - Inorder\n",
    "    - Postorder"
   ]
  },
  {
   "cell_type": "markdown",
   "metadata": {},
   "source": [
    "![title](TreeTraversal.png)"
   ]
  },
  {
   "cell_type": "markdown",
   "metadata": {},
   "source": [
    "**Creating above illustrated Tree**"
   ]
  },
  {
   "cell_type": "code",
   "execution_count": 2,
   "metadata": {},
   "outputs": [],
   "source": [
    "root = BinaryTree('A')\n",
    "root.addLeftChild('B')\n",
    "root.addRightChild('C')\n",
    "root.leftChild.addLeftChild('D')\n",
    "root.leftChild.addRightChild('E')\n",
    "root.leftChild.rightChild.addLeftChild('F')"
   ]
  },
  {
   "cell_type": "code",
   "execution_count": 17,
   "metadata": {},
   "outputs": [
    {
     "name": "stdout",
     "output_type": "stream",
     "text": [
      "       A\n",
      "    B     C\n",
      "  D   E\n",
      "    F\n"
     ]
    }
   ],
   "source": [
    "## Checking the built tree\n",
    "\n",
    "print(\"      \",root.value)\n",
    "print(\"   \",root.leftChild.value,\"   \",root.rightChild.value)\n",
    "print(\" \",root.leftChild.leftChild.value,\" \",root.leftChild.rightChild.value)\n",
    "print(\"   \", root.leftChild.rightChild.leftChild.value)"
   ]
  },
  {
   "cell_type": "code",
   "execution_count": 27,
   "metadata": {},
   "outputs": [],
   "source": [
    "def LevelorderTraverse(node):\n",
    "    if node == None:\n",
    "        return\n",
    "    if node:\n",
    "        #print(node.value)\n",
    "        if node.leftChild:\n",
    "            print(node.leftChild.value)    \n",
    "        if node.rightChild:\n",
    "            print(node.rightChild.value)    \n",
    "    \n",
    "    LevelorderTraverse(node.leftChild)\n",
    "    \n",
    "    LevelorderTraverse(node.rightChild)    "
   ]
  },
  {
   "cell_type": "code",
   "execution_count": 28,
   "metadata": {},
   "outputs": [
    {
     "name": "stdout",
     "output_type": "stream",
     "text": [
      "B\n",
      "C\n",
      "D\n",
      "E\n",
      "F\n"
     ]
    }
   ],
   "source": [
    "LevelorderTraverse(root)"
   ]
  },
  {
   "cell_type": "markdown",
   "metadata": {},
   "source": [
    "-    **Preorder Traversal**"
   ]
  },
  {
   "cell_type": "code",
   "execution_count": 18,
   "metadata": {},
   "outputs": [],
   "source": [
    "def PreorderTraverse(node):\n",
    "    if node == None:\n",
    "        return\n",
    "    if node:\n",
    "        print(node.value)\n",
    "        \n",
    "    PreorderTraverse(node.leftChild)\n",
    "    \n",
    "    PreorderTraverse(node.rightChild)"
   ]
  },
  {
   "cell_type": "code",
   "execution_count": 19,
   "metadata": {},
   "outputs": [
    {
     "name": "stdout",
     "output_type": "stream",
     "text": [
      "A\n",
      "B\n",
      "D\n",
      "E\n",
      "F\n",
      "C\n"
     ]
    }
   ],
   "source": [
    "PreorderTraverse(root)"
   ]
  },
  {
   "cell_type": "markdown",
   "metadata": {},
   "source": [
    "- **Inorder Traversal**"
   ]
  },
  {
   "cell_type": "code",
   "execution_count": 21,
   "metadata": {},
   "outputs": [],
   "source": [
    "def InorderTraverse(node):\n",
    "    if node == None:\n",
    "        return\n",
    "    InorderTraverse(node.leftChild)\n",
    "    \n",
    "    print(node.value)\n",
    "    \n",
    "    InorderTraverse(node.rightChild)"
   ]
  },
  {
   "cell_type": "code",
   "execution_count": 22,
   "metadata": {},
   "outputs": [
    {
     "name": "stdout",
     "output_type": "stream",
     "text": [
      "D\n",
      "B\n",
      "F\n",
      "E\n",
      "A\n",
      "C\n"
     ]
    }
   ],
   "source": [
    "InorderTraverse(root)"
   ]
  },
  {
   "cell_type": "markdown",
   "metadata": {},
   "source": [
    "- **Postorder Traversal**"
   ]
  },
  {
   "cell_type": "code",
   "execution_count": 23,
   "metadata": {},
   "outputs": [],
   "source": [
    "def PostorderTraverse(node):\n",
    "    if node == None:\n",
    "        return\n",
    "    PostorderTraverse(node.leftChild)\n",
    "           \n",
    "    PostorderTraverse(node.rightChild)\n",
    "    \n",
    "    print(node.value)"
   ]
  },
  {
   "cell_type": "code",
   "execution_count": 24,
   "metadata": {},
   "outputs": [
    {
     "name": "stdout",
     "output_type": "stream",
     "text": [
      "D\n",
      "F\n",
      "E\n",
      "B\n",
      "C\n",
      "A\n"
     ]
    }
   ],
   "source": [
    "PostorderTraverse(root)"
   ]
  }
 ],
 "metadata": {
  "kernelspec": {
   "display_name": "Python 3",
   "language": "python",
   "name": "python3"
  },
  "language_info": {
   "codemirror_mode": {
    "name": "ipython",
    "version": 3
   },
   "file_extension": ".py",
   "mimetype": "text/x-python",
   "name": "python",
   "nbconvert_exporter": "python",
   "pygments_lexer": "ipython3",
   "version": "3.6.4"
  }
 },
 "nbformat": 4,
 "nbformat_minor": 4
}
