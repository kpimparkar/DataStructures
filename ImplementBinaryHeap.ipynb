{
 "cells": [
  {
   "cell_type": "markdown",
   "metadata": {},
   "source": [
    "## Implement a binary heap\n",
    "- This is an illustration of a min binary heap. In this case the root is always the smallest element and leaves (nodes at the last level) contain highest elements.\n",
    "- A complete binary tree is used. Meaning left half of the tree contains approximately the same number of elements as found in right half.\n",
    "- Complete binary tree also means, that each node as two children nodes, except in the last level (leaves). If just one node is available to link to a parent node then left child node is filled in."
   ]
  },
  {
   "cell_type": "markdown",
   "metadata": {},
   "source": [
    "## Methods implemented\n",
    "- List :\n",
    "    - BinHeap() : Class object. Creates an empty binary heap.  \n",
    "        *First element (at index 0) of heap list is hard coded to be '0'. \n",
    "        This is done just to simplify calculation of child and parent elememnts' indexes.\n",
    "        It assigns index 1 to the root of the heap, hence children of any node at index i are given by 2i and 2i+1\n",
    "        If we don't add this 0 at index 0, root node will get index = 0 and its children will be as 2i + 1 and 2i + 2 indexes.*\n",
    "\n",
    "    - insertEle(ele) : Adds a new element to the binary heap. \n",
    "    \n",
    "    - percolateUp(self, currentSize) :  \n",
    "        *To add an element to a heap we must perform an `up-heap operation` (also known as bubble-up, **percolate-up**, sift-up, trickle-up, swim-up, heapify-up, or cascade-up), by following this algorithm:*\n",
    "\n",
    "        - *Add the element to the bottom level of the heap.*\n",
    "        - *Compare the added element with its parent; if they are in the correct order, stop.*  \n",
    "        - *If not, swap the element with its parent and return to the previous step.*  \n",
    "\n",
    "        The number of operations required depends only on the number of levels the new element must rise to satisfy the heap property, thus the insertion operation has a worst-case time complexity of O(log n) but an average-case complexity of O(1).  \n",
    "        Source : https://en.wikipedia.org/wiki/Binary_heap*\n",
    "\n",
    "    - getSmallerChild(self, parIndex) : This returns a node which has smaller key value for given parent\n",
    "\n",
    "    - delMinNode(self) : Deletes the node with least key value. Then rearranges the heap to maintain the min Heap property.  \n",
    "\n",
    "    - percolateDown(self, currentSize) :  \n",
    "        _The procedure for deleting the root from the heap (effectively extracting the maximum element in a max-heap or the minimum element in a min-heap) and restoring the properties is called `down-heap` (also known as bubble-down, **percolate-down**, sift-down, sink-down, trickle down, heapify-down, cascade-down, and extract-min/max)._\n",
    "\n",
    "        - _Replace the root of the heap with the last element on the last level._\n",
    "        - _Compare the new root with its children; if they are in the correct order, stop._\n",
    "        - _If not, swap the element with one of its children and return to the previous step. (Swap with its smaller child in a min-heap and its larger child in a max-heap.)  \n",
    "          Source : https://en.wikipedia.org/wiki/Binary_heap_\n",
    "    \n",
    "    - buildHeap(self, listOfEle) : Builds a new heap from a list of elements."
   ]
  },
  {
   "cell_type": "code",
   "execution_count": 1,
   "metadata": {},
   "outputs": [],
   "source": [
    "class BinHeap():\n",
    "    def __init__(self):\n",
    "        self.heapList = [0]\n",
    "        self.heapSize = 0\n",
    "        \n",
    "    def percolateUp(self, currentSize):\n",
    "#         print(\"Percolating  heap size = \" , currentSize)\n",
    "        while currentSize // 2 > 0:\n",
    "#             print(\"In the while :\")\n",
    "#             print(\"Comparing : \", self.heapList[currentSize] , self.heapList[currentSize // 2])\n",
    "            if self.heapList[currentSize] < self.heapList[currentSize // 2]:\n",
    "                currentParent = self.heapList[currentSize // 2]\n",
    "                self.heapList[currentSize // 2] = self.heapList[currentSize]\n",
    "                self.heapList[currentSize] = currentParent\n",
    "            currentSize = currentSize // 2\n",
    "#             print(\"Heap list now : \" , self.heapList)\n",
    "\n",
    "    def insertEle(self, ele):\n",
    "        '''\n",
    "        Method inserts a new element in the binary heap. Please provide the element to be added.\n",
    "        Usage : BinHeapObj.insertEle(element)\n",
    "        '''\n",
    "        self.heapList.append(ele)\n",
    "        self.heapSize += 1\n",
    "        self.percolateUp(self.heapSize)\n",
    "        print(\"Current Heap : \", self.heapList)\n",
    "        \n",
    "    def getSmallerChild(self, parIndex):\n",
    "        if (2*parIndex) > self.heapSize:\n",
    "            return None\n",
    "        if (2*parIndex + 1) > self.heapSize:\n",
    "            return 2*parIndex\n",
    "        else:\n",
    "            if self.heapList[2*parIndex] < self.heapList[2*parIndex + 1]:\n",
    "                return 2*parIndex\n",
    "            else:\n",
    "                return 2*parIndex + 1\n",
    "            \n",
    "    def percolateDown(self, parIndex):\n",
    "#         print(\"heap size = \", self.heapSize, \" paridx * 2= \", 2 * parIndex)\n",
    "        while (2 * parIndex) <= self.heapSize:\n",
    "            smallChildIdx = self.getSmallerChild(parIndex)\n",
    "#             print(\"small child: \",smallChildIdx)\n",
    "            if self.heapList[parIndex] > self.heapList[smallChildIdx]:\n",
    "#                 print(\"Comparing : \", self.heapList[parIndex], self.heapList[smallChildIdx])\n",
    "                currentParent = self.heapList[parIndex]\n",
    "                self.heapList[parIndex] = self.heapList[smallChildIdx]\n",
    "                self.heapList[smallChildIdx] = currentParent\n",
    "            parIndex = smallChildIdx\n",
    "    \n",
    "    def delMinNode(self):\n",
    "        '''\n",
    "        Deletes current root, rearranges the elements to maintain heap properties.\n",
    "        '''\n",
    "        currentParent = self.heapList[1]\n",
    "        self.heapList[1] = self.heapList[self.heapSize]\n",
    "        self.heapSize -= 1\n",
    "        self.heapList.pop()\n",
    "        self.percolateDown(1)\n",
    "        return self.heapList\n",
    "        \n",
    "    def buildHeap(self, listOfEle):\n",
    "        '''\n",
    "        Creates a binary heap from provided list of elements.\n",
    "        '''\n",
    "        noOfLevels = len(listOfEle) // 2\n",
    "        self.heapSize = len(listOfEle)\n",
    "        self.heapList = [0] + listOfEle[:]\n",
    "                       \n",
    "        while (noOfLevels > 0):\n",
    "            self.percolateDown(noOfLevels)\n",
    "            noOfLevels -= 1\n",
    "        \n",
    "        return (self.heapList)\n",
    "        \n",
    "            "
   ]
  },
  {
   "cell_type": "code",
   "execution_count": 2,
   "metadata": {},
   "outputs": [
    {
     "data": {
      "text/plain": [
       "[0, 5, 7, 8, 10]"
      ]
     },
     "execution_count": 2,
     "metadata": {},
     "output_type": "execute_result"
    }
   ],
   "source": [
    "heap = BinHeap()\n",
    "heap.buildHeap([10,7,8,5])"
   ]
  },
  {
   "cell_type": "code",
   "execution_count": 3,
   "metadata": {},
   "outputs": [
    {
     "data": {
      "text/plain": [
       "[0, 7, 10, 8]"
      ]
     },
     "execution_count": 3,
     "metadata": {},
     "output_type": "execute_result"
    }
   ],
   "source": [
    "heap.delMinNode()"
   ]
  },
  {
   "cell_type": "code",
   "execution_count": 4,
   "metadata": {},
   "outputs": [
    {
     "name": "stdout",
     "output_type": "stream",
     "text": [
      "Current Heap :  [0, 2, 7, 8, 10]\n"
     ]
    }
   ],
   "source": [
    "heap.insertEle(2)"
   ]
  }
 ],
 "metadata": {
  "kernelspec": {
   "display_name": "Python 3",
   "language": "python",
   "name": "python3"
  },
  "language_info": {
   "codemirror_mode": {
    "name": "ipython",
    "version": 3
   },
   "file_extension": ".py",
   "mimetype": "text/x-python",
   "name": "python",
   "nbconvert_exporter": "python",
   "pygments_lexer": "ipython3",
   "version": "3.6.4"
  }
 },
 "nbformat": 4,
 "nbformat_minor": 4
}
