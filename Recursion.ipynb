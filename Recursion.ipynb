{
 "cells": [
  {
   "cell_type": "markdown",
   "metadata": {},
   "source": [
    "## Normal function for finding factorial of a number"
   ]
  },
  {
   "cell_type": "code",
   "execution_count": 26,
   "metadata": {},
   "outputs": [],
   "source": [
    "def factNorm(n):\n",
    "    if n == 0:\n",
    "        return 1\n",
    "    if n < 0:\n",
    "        return \"Invalid input\"\n",
    "    fact = 1\n",
    "    for i in range(n,1,-1):\n",
    "#         print(fact, i)\n",
    "        fact =  fact * i\n",
    "    print(fact)"
   ]
  },
  {
   "cell_type": "code",
   "execution_count": 27,
   "metadata": {},
   "outputs": [
    {
     "name": "stdout",
     "output_type": "stream",
     "text": [
      "120\n"
     ]
    }
   ],
   "source": [
    "factNorm(5)"
   ]
  },
  {
   "cell_type": "code",
   "execution_count": 28,
   "metadata": {},
   "outputs": [
    {
     "data": {
      "text/plain": [
       "'Invalid input'"
      ]
     },
     "execution_count": 28,
     "metadata": {},
     "output_type": "execute_result"
    }
   ],
   "source": [
    "factNorm(-2)"
   ]
  },
  {
   "cell_type": "code",
   "execution_count": 29,
   "metadata": {},
   "outputs": [
    {
     "data": {
      "text/plain": [
       "1"
      ]
     },
     "execution_count": 29,
     "metadata": {},
     "output_type": "execute_result"
    }
   ],
   "source": [
    "factNorm(0)"
   ]
  },
  {
   "cell_type": "markdown",
   "metadata": {},
   "source": [
    "## Factorial function using recursion"
   ]
  },
  {
   "cell_type": "code",
   "execution_count": 32,
   "metadata": {},
   "outputs": [],
   "source": [
    "def factRecur(n):\n",
    "    if n < 0:\n",
    "        return \"Invalid input\"    \n",
    "    if n == 0:\n",
    "        return 1\n",
    "    else:\n",
    "        print(n)\n",
    "        return n * factRecur(n-1)"
   ]
  },
  {
   "cell_type": "code",
   "execution_count": 33,
   "metadata": {},
   "outputs": [
    {
     "name": "stdout",
     "output_type": "stream",
     "text": [
      "5\n",
      "4\n",
      "3\n",
      "2\n",
      "1\n"
     ]
    },
    {
     "data": {
      "text/plain": [
       "120"
      ]
     },
     "execution_count": 33,
     "metadata": {},
     "output_type": "execute_result"
    }
   ],
   "source": [
    "factRecur(5)"
   ]
  },
  {
   "cell_type": "markdown",
   "metadata": {},
   "source": [
    "### HW Prob 1 :\n",
    "\n",
    "Write a recursive function which takes an integer and computes the cumulative sum of 0 to that integer\n",
    "\n",
    "For example, if n=4 , return 4+3+2+1+0, which is 10."
   ]
  },
  {
   "cell_type": "code",
   "execution_count": 36,
   "metadata": {},
   "outputs": [],
   "source": [
    "def cumSum(n):\n",
    "    if n == 0:\n",
    "        return 0\n",
    "    else:\n",
    "        return n + cumSum(n-1)"
   ]
  },
  {
   "cell_type": "code",
   "execution_count": 37,
   "metadata": {},
   "outputs": [
    {
     "data": {
      "text/plain": [
       "10"
      ]
     },
     "execution_count": 37,
     "metadata": {},
     "output_type": "execute_result"
    }
   ],
   "source": [
    "cumSum(4)"
   ]
  },
  {
   "cell_type": "markdown",
   "metadata": {},
   "source": [
    "### HW Prob 2 :\n",
    "Given an integer, create a function which returns the sum of all the individual digits in that integer. \n",
    "For example: if n = 4321, return 4+3+2+1"
   ]
  },
  {
   "cell_type": "code",
   "execution_count": 40,
   "metadata": {},
   "outputs": [],
   "source": [
    "def digiSum(n):\n",
    "    if len(str(n)) == 1:\n",
    "        return int(n)\n",
    "    else:\n",
    "        return int(str(n)[0]) + int(digiSum(str(n)[1:]))\n",
    "    "
   ]
  },
  {
   "cell_type": "code",
   "execution_count": 42,
   "metadata": {},
   "outputs": [
    {
     "data": {
      "text/plain": [
       "10"
      ]
     },
     "execution_count": 42,
     "metadata": {},
     "output_type": "execute_result"
    }
   ],
   "source": [
    "digiSum(1234)"
   ]
  },
  {
   "cell_type": "code",
   "execution_count": 43,
   "metadata": {},
   "outputs": [],
   "source": [
    "def digiSum1(n):\n",
    "    if round(n/10) == 0:\n",
    "        return n\n",
    "    else:\n",
    "        return n%10 + digiSum1(round(n/10))"
   ]
  },
  {
   "cell_type": "code",
   "execution_count": 44,
   "metadata": {},
   "outputs": [
    {
     "data": {
      "text/plain": [
       "10"
      ]
     },
     "execution_count": 44,
     "metadata": {},
     "output_type": "execute_result"
    }
   ],
   "source": [
    "digiSum1(1234)"
   ]
  },
  {
   "cell_type": "markdown",
   "metadata": {},
   "source": [
    "### HW Prob 3 :\n",
    "Create a function called word_split() which takes in a string phrase and a set list_of_words. The function will then determine \n",
    "if it is possible to split the string in a way in which words can be made from the list of words. \n",
    "You can assume the phrase will only contain words found in the dictionary if it is completely splittable.\n",
    "\n",
    "For example:\n",
    "  \n",
    "word_split('themanran',['the','ran','man'])  \n",
    "['the', 'man', 'ran']  "
   ]
  },
  {
   "cell_type": "code",
   "execution_count": 28,
   "metadata": {},
   "outputs": [],
   "source": [
    "def word_split(phrase, key_list, opList=None):\n",
    "    if opList == None:\n",
    "        opList = []\n",
    "    for wrd in key_list:\n",
    "        #print(wrd, phrase, opList)\n",
    "#         if len(phrase) == 0:\n",
    "#             print(opList)\n",
    "#             return\n",
    "        #print(phrase[:len(wrd)])\n",
    "        if phrase[:len(wrd)] == wrd:\n",
    "            opList.append(wrd)\n",
    "            return word_split(phrase[len(wrd):],key_list,opList)\n",
    "    return opList"
   ]
  },
  {
   "cell_type": "code",
   "execution_count": 29,
   "metadata": {},
   "outputs": [
    {
     "data": {
      "text/plain": [
       "['the', 'man', 'ran']"
      ]
     },
     "execution_count": 29,
     "metadata": {},
     "output_type": "execute_result"
    }
   ],
   "source": [
    "word_split('themanran',['the','ran','man'])"
   ]
  },
  {
   "cell_type": "code",
   "execution_count": 30,
   "metadata": {},
   "outputs": [
    {
     "data": {
      "text/plain": [
       "['i', 'love', 'dogs', 'John']"
      ]
     },
     "execution_count": 30,
     "metadata": {},
     "output_type": "execute_result"
    }
   ],
   "source": [
    "word_split('ilovedogsJohn',['i','am','a','dogs','lover','love','John'])"
   ]
  },
  {
   "cell_type": "code",
   "execution_count": 31,
   "metadata": {},
   "outputs": [
    {
     "data": {
      "text/plain": [
       "[]"
      ]
     },
     "execution_count": 31,
     "metadata": {},
     "output_type": "execute_result"
    }
   ],
   "source": [
    "word_split('themanran',['clown','ran','man'])"
   ]
  },
  {
   "cell_type": "markdown",
   "metadata": {},
   "source": [
    "## IProb 1 : String reversal using recursion\n"
   ]
  },
  {
   "cell_type": "code",
   "execution_count": 34,
   "metadata": {},
   "outputs": [],
   "source": [
    "def rev(s):\n",
    "    if len(s) == 1:\n",
    "        return s\n",
    "    else:\n",
    "        return s[len(s)-1] + rev(s[:-1])"
   ]
  },
  {
   "cell_type": "code",
   "execution_count": 35,
   "metadata": {},
   "outputs": [
    {
     "data": {
      "text/plain": [
       "'dcba'"
      ]
     },
     "execution_count": 35,
     "metadata": {},
     "output_type": "execute_result"
    }
   ],
   "source": [
    "rev('abcd')"
   ]
  },
  {
   "cell_type": "code",
   "execution_count": 37,
   "metadata": {},
   "outputs": [
    {
     "name": "stdout",
     "output_type": "stream",
     "text": [
      "PASSED ALL TEST CASES!\n"
     ]
    }
   ],
   "source": [
    "from nose.tools import assert_equal\n",
    "\n",
    "class TestReverse(object):\n",
    "    \n",
    "    def test_rev(self,solution):\n",
    "        assert_equal(solution('hello'),'olleh')\n",
    "        assert_equal(solution('hello world'),'dlrow olleh')\n",
    "        assert_equal(solution('123456789'),'987654321')\n",
    "        \n",
    "        print('PASSED ALL TEST CASES!')\n",
    "        \n",
    "# Run Tests\n",
    "test = TestReverse()\n",
    "test.test_rev(rev)"
   ]
  },
  {
   "cell_type": "markdown",
   "metadata": {},
   "source": [
    "## IProb 2 : String permutations using recursion"
   ]
  },
  {
   "cell_type": "code",
   "execution_count": 55,
   "metadata": {},
   "outputs": [],
   "source": [
    "def permute(s):\n",
    "    opList = []\n",
    "    if len(s) == 1:\n",
    "        opList = [s]\n",
    "    else:\n",
    "        for i, letter in enumerate(s):\n",
    "            print(\"First for : \", i, letter)\n",
    "            print(\"Passing s as : \", s[:i] + s[i+1:])\n",
    "            for resp in permute(s[:i] + s[i+1:]):\n",
    "                print(\"Second for : \", resp)\n",
    "                print(\"Second for : \", letter + resp)\n",
    "                opList += [letter + resp]\n",
    "                print(\"Op List : \", opList)\n",
    "    return opList"
   ]
  },
  {
   "cell_type": "code",
   "execution_count": 56,
   "metadata": {},
   "outputs": [
    {
     "name": "stdout",
     "output_type": "stream",
     "text": [
      "First for :  0 a\n",
      "Passing s as :  bc\n",
      "First for :  0 b\n",
      "Passing s as :  c\n",
      "Second for :  c\n",
      "Second for :  bc\n",
      "Op List :  ['bc']\n",
      "First for :  1 c\n",
      "Passing s as :  b\n",
      "Second for :  b\n",
      "Second for :  cb\n",
      "Op List :  ['bc', 'cb']\n",
      "Second for :  bc\n",
      "Second for :  abc\n",
      "Op List :  ['abc']\n",
      "Second for :  cb\n",
      "Second for :  acb\n",
      "Op List :  ['abc', 'acb']\n",
      "First for :  1 b\n",
      "Passing s as :  ac\n",
      "First for :  0 a\n",
      "Passing s as :  c\n",
      "Second for :  c\n",
      "Second for :  ac\n",
      "Op List :  ['ac']\n",
      "First for :  1 c\n",
      "Passing s as :  a\n",
      "Second for :  a\n",
      "Second for :  ca\n",
      "Op List :  ['ac', 'ca']\n",
      "Second for :  ac\n",
      "Second for :  bac\n",
      "Op List :  ['abc', 'acb', 'bac']\n",
      "Second for :  ca\n",
      "Second for :  bca\n",
      "Op List :  ['abc', 'acb', 'bac', 'bca']\n",
      "First for :  2 c\n",
      "Passing s as :  ab\n",
      "First for :  0 a\n",
      "Passing s as :  b\n",
      "Second for :  b\n",
      "Second for :  ab\n",
      "Op List :  ['ab']\n",
      "First for :  1 b\n",
      "Passing s as :  a\n",
      "Second for :  a\n",
      "Second for :  ba\n",
      "Op List :  ['ab', 'ba']\n",
      "Second for :  ab\n",
      "Second for :  cab\n",
      "Op List :  ['abc', 'acb', 'bac', 'bca', 'cab']\n",
      "Second for :  ba\n",
      "Second for :  cba\n",
      "Op List :  ['abc', 'acb', 'bac', 'bca', 'cab', 'cba']\n"
     ]
    },
    {
     "data": {
      "text/plain": [
       "['abc', 'acb', 'bac', 'bca', 'cab', 'cba']"
      ]
     },
     "execution_count": 56,
     "metadata": {},
     "output_type": "execute_result"
    }
   ],
   "source": [
    "permute('abc')"
   ]
  },
  {
   "cell_type": "code",
   "execution_count": 64,
   "metadata": {},
   "outputs": [
    {
     "name": "stdout",
     "output_type": "stream",
     "text": [
      "xxx\n",
      "xxx\n",
      "xxx\n",
      "xxx\n",
      "xxx\n",
      "xxx\n"
     ]
    }
   ],
   "source": [
    "# Above result is achieved using itertools:\n",
    "\n",
    "import itertools\n",
    "for i in itertools.permutations('xxx'):\n",
    "    print(''.join(i))"
   ]
  },
  {
   "cell_type": "markdown",
   "metadata": {},
   "source": [
    "## IProb 3 : Fibonnaci series"
   ]
  },
  {
   "cell_type": "code",
   "execution_count": 72,
   "metadata": {},
   "outputs": [],
   "source": [
    "def getFibo(n):\n",
    "    a,b = 0,1\n",
    "    op = [b]\n",
    "    for i in range(n-1):\n",
    "        a,b = b, a+b\n",
    "        op.append(b)\n",
    "    print(op)"
   ]
  },
  {
   "cell_type": "code",
   "execution_count": 73,
   "metadata": {},
   "outputs": [
    {
     "name": "stdout",
     "output_type": "stream",
     "text": [
      "[1, 1, 2, 3, 5, 8, 13, 21, 34, 55]\n"
     ]
    }
   ],
   "source": [
    "getFibo(10)"
   ]
  },
  {
   "cell_type": "code",
   "execution_count": null,
   "metadata": {},
   "outputs": [],
   "source": [
    "def getFibo1(n, op=None):\n",
    "    if op == None:\n",
    "        op = []\n",
    "        a, b = 0, 1\n",
    "    else:\n",
    "        a, b = op[0], op[1]\n",
    "    c = a+b\n",
    "    a = b\n",
    "    return c\n",
    "#     op.append(c, getFibo1(n-1,op))\n",
    "    "
   ]
  },
  {
   "cell_type": "code",
   "execution_count": 7,
   "metadata": {},
   "outputs": [],
   "source": [
    "def fibo_rec(n):\n",
    "    if n == 0 or n == 1:\n",
    "        return n\n",
    "    else:\n",
    "        print(\"Nums are:\", n, n-1)\n",
    "        print(fibo_rec(n-1) , fibo_rec(n-2))\n",
    "        return fibo_rec(n-1) + fibo_rec(n-2)"
   ]
  },
  {
   "cell_type": "code",
   "execution_count": 8,
   "metadata": {},
   "outputs": [
    {
     "name": "stdout",
     "output_type": "stream",
     "text": [
      "Nums are: 3 2\n",
      "Nums are: 2 1\n",
      "1 0\n",
      "1 1\n",
      "Nums are: 2 1\n",
      "1 0\n"
     ]
    },
    {
     "data": {
      "text/plain": [
       "2"
      ]
     },
     "execution_count": 8,
     "metadata": {},
     "output_type": "execute_result"
    }
   ],
   "source": [
    "fibo_rec(3)"
   ]
  },
  {
   "cell_type": "code",
   "execution_count": 18,
   "metadata": {},
   "outputs": [],
   "source": [
    "def coins(amount,currency):\n",
    "    for i in currency:\n",
    "        if i <= amount:\n",
    "            print(i)\n",
    "            amount -= i\n",
    "            if amount == 0:\n",
    "                break"
   ]
  },
  {
   "cell_type": "code",
   "execution_count": 19,
   "metadata": {},
   "outputs": [
    {
     "name": "stdout",
     "output_type": "stream",
     "text": [
      "10\n",
      "1\n"
     ]
    }
   ],
   "source": [
    "coins(11,[10,5,1])"
   ]
  }
 ],
 "metadata": {
  "kernelspec": {
   "display_name": "Python 3",
   "language": "python",
   "name": "python3"
  },
  "language_info": {
   "codemirror_mode": {
    "name": "ipython",
    "version": 3
   },
   "file_extension": ".py",
   "mimetype": "text/x-python",
   "name": "python",
   "nbconvert_exporter": "python",
   "pygments_lexer": "ipython3",
   "version": "3.6.4"
  }
 },
 "nbformat": 4,
 "nbformat_minor": 4
}
